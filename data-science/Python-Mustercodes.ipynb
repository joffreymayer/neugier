{
 "cells": [
  {
   "cell_type": "markdown",
   "metadata": {},
   "source": [
    "# Python Mustercodes\n",
    "\n",
    "In diesem Dokument habe ich eine **Liste von diversen Python-Codes**, welche mir in meiner Arbeit als Data Scientist behilflich sein könnten. I hope you find what you are looking for =)"
   ]
  },
  {
   "cell_type": "markdown",
   "metadata": {},
   "source": [
    "## Install some Packages // Modules, or Sub-Modules"
   ]
  },
  {
   "cell_type": "code",
   "execution_count": 1,
   "metadata": {},
   "outputs": [],
   "source": [
    "import numpy as np\n",
    "import matplotlib.pyplot as plt\n",
    "from matplotlib.dates import date2num\n",
    "import pandas as pd\n",
    "from scipy import stats\n",
    "from datetime import datetime"
   ]
  },
  {
   "cell_type": "markdown",
   "metadata": {},
   "source": [
    "## Need help & documentation\n",
    "---"
   ]
  },
  {
   "cell_type": "code",
   "execution_count": null,
   "metadata": {},
   "outputs": [
    {
     "name": "stdout",
     "output_type": "stream",
     "text": [
      "\n",
      "Welcome to Python 3.8's help utility!\n",
      "\n",
      "If this is your first time using Python, you should definitely check out\n",
      "the tutorial on the Internet at https://docs.python.org/3.8/tutorial/.\n",
      "\n",
      "Enter the name of any module, keyword, or topic to get help on writing\n",
      "Python programs and using Python modules.  To quit this help utility and\n",
      "return to the interpreter, just type \"quit\".\n",
      "\n",
      "To get a list of available modules, keywords, symbols, or topics, type\n",
      "\"modules\", \"keywords\", \"symbols\", or \"topics\".  Each module also comes\n",
      "with a one-line summary of what it does; to list the modules whose name\n",
      "or summary contain a given string such as \"spam\", type \"modules spam\".\n",
      "\n"
     ]
    }
   ],
   "source": [
    "help()"
   ]
  },
  {
   "cell_type": "markdown",
   "metadata": {},
   "source": [
    "## Read data // Load data\n",
    "---\n",
    "\n",
    "In order to **load datasets**, you will need the library `pandas`. \n",
    "\n",
    "To load data from Excel-Sheats:\n"
   ]
  },
  {
   "cell_type": "code",
   "execution_count": null,
   "metadata": {},
   "outputs": [],
   "source": [
    "epex_df = pd.read_excel(\"./Data_V2/Preis_aktuell_Spot_EEX_CH-19-ver-mac.xlsx\", \n",
    "                        header=[1], \n",
    "                        sheet_name='Prices', # If you have more than 1 Excel-Sheet within the Excel-File, you need to specify\n",
    "                        # which sheet you want to load\n",
    "                        engine='openpyxl') # This input will (sometimes) be needed if you load data from an Excel-File via \n",
    "                                           # a Windows-Computer, otherwise it can print an error!\n",
    "epex_df # output the ddset a"
   ]
  },
  {
   "cell_type": "code",
   "execution_count": null,
   "metadata": {},
   "outputs": [],
   "source": []
  },
  {
   "cell_type": "markdown",
   "metadata": {},
   "source": [
    "## Filtering Data // Selection of Columns\n",
    "---\n",
    "\n",
    "\"Filtering\" können in Datensätze mit Hilfe der `Column-Selection` durchgeführt werden. Beachte dass es - oftmals - mehrere Möglichkeiten, um - beispielsweise - eine bestimmte Spalte zu selektieren.\n",
    "\n",
    "<mark>Also, note that the selection of the whole column will print out <u>all</u> the values // entries within a column</mark>.\n",
    "\n",
    "**Möglichkeit 1: mit Hilfe der `dot-notation`:**"
   ]
  },
  {
   "cell_type": "code",
   "execution_count": null,
   "metadata": {},
   "outputs": [],
   "source": [
    "desc = reviews.description # ACHTUNG: diese Art von \"selection\" funktioniert nicht, wenn es Leerschläge gibt!!"
   ]
  },
  {
   "cell_type": "markdown",
   "metadata": {},
   "source": [
    "**Möglichkeit 2: mit Hilfe des `indexing-operators [...]`**"
   ]
  },
  {
   "cell_type": "code",
   "execution_count": null,
   "metadata": {},
   "outputs": [],
   "source": [
    "desc = reviews['description'] # Dadurch wird die Column 'description' im Datensatz 'reviews' selektiert."
   ]
  },
  {
   "cell_type": "markdown",
   "metadata": {},
   "source": [
    "### Filtering for a particular `entry` WITHIN a specific column?\n",
    "---\n",
    "\n",
    "**Möglichkeit 1**: Lustigerweise scheint es nur für die eine 'entry-selection' zu geben mit Hilfe des \n",
    "`indexing operators` (= siehe 'Möglichkeit 2' oben, dh mittels `index-operators`), aber NICHT für die `dot-notation`!"
   ]
  },
  {
   "cell_type": "code",
   "execution_count": null,
   "metadata": {},
   "outputs": [],
   "source": [
    "first_description = reviews['description'][0]"
   ]
  },
  {
   "cell_type": "markdown",
   "metadata": {},
   "source": [
    "**Möglichkeit 2**: As an alternative to the 'indexing operators', we can use the special 'accessor operators'\n",
    "that come along with the `pandas`-package: \n",
    "\n",
    "- `iloc` (= based on the **Postition** des Index <u>innerhalb</u> der Spalten & Reihen im ddset), and\n",
    "- `loc` (= based on the **Index-Namen** of the Spalten & Zeilen im ddset).\n",
    "    \n",
    "**Important to note BEFORE running `iloc?`**: we need to know the POSITION // where in the ddset the column \n",
    "'description' is located --> use `reviews.head()` command:\n",
    "- Fazit: the 'description'-column is the 2nd column in the ddset! --> now we can use iloc!\n",
    "- Note: Oftentimes, the index // row-labels of datasets have - **by default** - no real <u>name</u>. Instead Python automatically gives them **a name that corresponds to the position** - starting at 0 to where the dataset ends... \n",
    "\n",
    "*<mark>Hence - since the (default) name of the rows == position of the rows within the ddset - it is often the case that `loc` and `iloc` have the <u>same</u> index-value for the rows</mark>*!"
   ]
  },
  {
   "cell_type": "code",
   "execution_count": null,
   "metadata": {},
   "outputs": [],
   "source": [
    "# use of iloc (--> remember: we need the POSITION of the rows & columns that we are interested in within the dataframe)\n",
    "first_description = reviews.iloc[0,1] # Output == selects the 2n column (= 1). Within this second column, you select \n",
    "# the 1st element (= 0)\n",
    "    # IMPORTANT: Reihenfolge der inputs bei 'iloc' == 1) 'rows', then 2) 'columns'"
   ]
  },
  {
   "cell_type": "markdown",
   "metadata": {},
   "source": [
    "**Möglichkeit 3**: use `loc` as the 'accessor operator', which is based on the names of the rows- & column-indices."
   ]
  },
  {
   "cell_type": "code",
   "execution_count": null,
   "metadata": {},
   "outputs": [],
   "source": [
    "first_description = reviews.loc[0, 'description'] # IMPORTANT: Reihenfolge der inputs == 1) 'rows', then \n",
    "# 2) 'columns' --> selects the column \"\"\n",
    "\n",
    "# Important to note BEFORE running 'loc': we need to know the NAMES of the columns'- & rows'-indices \n",
    "# --> use reviews.head() command:\n",
    "    # Fazit: the row-label (= names of the index of the rows) is simply an ascending range starting \n",
    "    # from 0,1,2,3,... (= default-values in a ddframe) AND the column-labels (= names of the index of the \n",
    "    # columns)  are the names of the columns itself, e.g. 'country', 'description', 'designation' etc..\n",
    "    # --> now we can use loc!"
   ]
  },
  {
   "cell_type": "markdown",
   "metadata": {},
   "source": [
    "## Converting a Column into a Date-Column\n",
    "---\n",
    "\n",
    "**If you work with time-series**, it will oftentimes be the case that you will need to convert your date-column - which oftentimes are strings - into an actual `date-type` column!"
   ]
  },
  {
   "cell_type": "code",
   "execution_count": null,
   "metadata": {},
   "outputs": [],
   "source": [
    "#convert Delivery day to a date time column\n",
    "epex_df['Delivery day'] = pd.to_datetime(epex_df['Delivery day'], format = '%Y%m%d')"
   ]
  },
  {
   "cell_type": "code",
   "execution_count": null,
   "metadata": {},
   "outputs": [],
   "source": []
  }
 ],
 "metadata": {
  "kernelspec": {
   "display_name": "Python 3",
   "language": "python",
   "name": "python3"
  },
  "language_info": {
   "codemirror_mode": {
    "name": "ipython",
    "version": 3
   },
   "file_extension": ".py",
   "mimetype": "text/x-python",
   "name": "python",
   "nbconvert_exporter": "python",
   "pygments_lexer": "ipython3",
   "version": "3.8.5"
  }
 },
 "nbformat": 4,
 "nbformat_minor": 4
}
